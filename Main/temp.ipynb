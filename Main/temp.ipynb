{
 "cells": [
  {
   "cell_type": "code",
   "execution_count": 1,
   "metadata": {},
   "outputs": [],
   "source": [
    "import subprocess"
   ]
  },
  {
   "cell_type": "code",
   "execution_count": 9,
   "metadata": {},
   "outputs": [
    {
     "name": "stdout",
     "output_type": "stream",
     "text": [
      "Clingo returned non-zero exit status 10:\n",
      "clingo version 5.6.2\n",
      "Reading from stdin\n",
      "Solving...\n",
      "Answer: 1\n",
      "total_cost(0)\n",
      "SATISFIABLE\n",
      "\n",
      "Models       : 1+\n",
      "Calls        : 1\n",
      "Time         : 0.001s (Solving: 0.00s 1st Model: 0.00s Unsat: 0.00s)\n",
      "CPU Time     : 0.000s\n",
      "\n"
     ]
    }
   ],
   "source": [
    "# Define the ASP program\n",
    "asp_program = \"\"\"\n",
    "% Define the input data\n",
    "{ item(\"item1\", 10) }.\n",
    "{ item(\"item2\", 20) }.\n",
    "{ item(\"item3\", 30) }.\n",
    "\n",
    "% Define the ASP rules\n",
    "total_cost(TC) :-\n",
    "    TC = #sum { C : item(I, C) }.\n",
    "\"\"\"\n",
    "\n",
    "# Define the Clingo command\n",
    "clingo_cmd = ['clingo']\n",
    "\n",
    "# Run the Clingo command\n",
    "try:\n",
    "    # Run Clingo as a subprocess\n",
    "    clingo_process = subprocess.run(clingo_cmd, input=asp_program, capture_output=True, text=True, check=True)\n",
    "\n",
    "    # Parse the Clingo output\n",
    "    clingo_output = clingo_process.stdout\n",
    "    clingo_result = clingo_output.strip().split('\\n')[-1]\n",
    "    total_cost = int(clingo_result.split()[2])\n",
    "\n",
    "    # Print the total cost\n",
    "    print(f'Total cost: {total_cost}')\n",
    "\n",
    "except subprocess.CalledProcessError as error:\n",
    "    print(f'Clingo returned non-zero exit status {error.returncode}:')\n",
    "    print(error.output)\n"
   ]
  }
 ],
 "metadata": {
  "kernelspec": {
   "display_name": "base",
   "language": "python",
   "name": "python3"
  },
  "language_info": {
   "codemirror_mode": {
    "name": "ipython",
    "version": 3
   },
   "file_extension": ".py",
   "mimetype": "text/x-python",
   "name": "python",
   "nbconvert_exporter": "python",
   "pygments_lexer": "ipython3",
   "version": "3.10.11"
  },
  "orig_nbformat": 4
 },
 "nbformat": 4,
 "nbformat_minor": 2
}
